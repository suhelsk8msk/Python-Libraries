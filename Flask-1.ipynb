{
 "cells": [
  {
   "cell_type": "markdown",
   "id": "8eb7b1cf-9bc9-4d06-ae34-cf7e8938caec",
   "metadata": {},
   "source": [
    "Flask Assignment-1"
   ]
  },
  {
   "cell_type": "markdown",
   "id": "08e28111-9cec-4d4c-bbbe-ce4b388f85d5",
   "metadata": {},
   "source": [
    "Q1. What is Flask Framework? What are the advantages of Flask Framework?"
   ]
  },
  {
   "cell_type": "markdown",
   "id": "54a80925-28bf-4d29-9af9-a3267f0d9e9d",
   "metadata": {},
   "source": [
    "Ans - \n",
    "Flask is a lightweight and versatile web framework for Python that is designed to be simple and easy to use. It is classified as a microframework because it does not require specific tools or libraries and does not come with built-in features such as database abstraction, authentication, and form validation. Instead, Flask allows developers to choose the tools and libraries they want to use, providing a flexible and modular approach to web development.\n",
    "\n",
    "Some advantages of Flask include:"
   ]
  },
  {
   "cell_type": "markdown",
   "id": "08852819-40ce-4ce4-b30b-ee2f9694bdb0",
   "metadata": {},
   "source": [
    "1 - Simplicity: Flask is known for its simplicity and minimalistic design. It provides the essentials for building web applications without imposing unnecessary complexity. This makes it easy for beginners to learn and use.\n",
    "\n",
    "2 - Flexibility: Flask follows a \"micro\" philosophy, meaning it comes with only the bare essentials. Developers have the freedom to choose the components and libraries they need for their specific project requirements. This flexibility allows for a more customized and efficient development process.\n",
    "\n",
    "3 - Extensibility: Flask is designed to be easily extensible. There is a wide range of extensions available that can be integrated into your application to add features such as authentication, database support, and more. These extensions can be easily plugged in, contributing to the modular nature of Flask.\n",
    "\n",
    "4 - Jinja2 Templating: Flask uses the Jinja2 template engine, which provides a powerful and expressive way to create dynamic content in HTML templates. This separation of concerns between the application logic and presentation makes it easier to maintain and scale applications.\n",
    "\n",
    "5 - Built-in Development Server: Flask comes with a built-in development server that makes it easy to test and debug applications during the development phase. While this server is not suitable for production use, it is convenient for rapid development.\n",
    "\n",
    "6 - Active Community: Flask has a large and active community of developers. This means there is a wealth of tutorials, documentation, and third-party extensions available. The community support makes it easier for developers to find solutions to common issues and stay up-to-date with best practices.\n",
    "\n",
    "7 - RESTful Support: Flask provides support for building RESTful APIs, making it a good choice for developing web services. It allows developers to create APIs that can be consumed by other applications or front-end frameworks."
   ]
  },
  {
   "cell_type": "code",
   "execution_count": null,
   "id": "c888c4ea-ba1b-487d-ba2b-17f3600b7ff6",
   "metadata": {},
   "outputs": [],
   "source": []
  },
  {
   "cell_type": "markdown",
   "id": "50a6f3b4-d51d-4cc0-a8ad-4fd1d54446ea",
   "metadata": {},
   "source": [
    "Q2. Create a simple Flask application to display ‘Hello World!!’. Attach the screenshot of the output in\n",
    "Jupyter Notebook."
   ]
  },
  {
   "cell_type": "code",
   "execution_count": 2,
   "id": "c9ab7836-fb57-465f-add0-62961213499c",
   "metadata": {},
   "outputs": [],
   "source": [
    "# There are some problem in attaching the screenshot. Actually I don't know sir! how to attach the acreenshot in jupyter notebook.\n",
    "# There is no Image insertion option visible."
   ]
  },
  {
   "cell_type": "code",
   "execution_count": null,
   "id": "5bead9ab-3fe1-4d61-9614-e655bd030013",
   "metadata": {},
   "outputs": [],
   "source": [
    "from flask import Flask\n",
    "\n",
    "app = Flask(__name__)\n",
    "\n",
    "@app.route(\"/\")\n",
    "def hello_world():\n",
    "    return \"<h1>Hello, World!</h1>\"\n",
    "\n",
    "if __name__==\"__main__\":\n",
    "    app.run(host=\"0.0.0.0\")"
   ]
  },
  {
   "cell_type": "code",
   "execution_count": null,
   "id": "349c73f1-e526-41b4-8d6e-a0eb063b1195",
   "metadata": {},
   "outputs": [],
   "source": []
  },
  {
   "cell_type": "markdown",
   "id": "ed1dee1a-4c74-4e0c-8fa3-1a766ce2a152",
   "metadata": {},
   "source": [
    "Q3. What is App routing in Flask? Why do we use app routes?"
   ]
  },
  {
   "cell_type": "markdown",
   "id": "d5309755-2f48-4e86-9be1-ca850fe64081",
   "metadata": {},
   "source": [
    "\n",
    "Ans -\n",
    "\n",
    "In Flask, app routing refers to the mechanism by which URLs are associated with specific functions in your application. It allows you to define how different URLs or routes map to the execution of specific code, typically in the form of functions or methods. The central component responsible for handling these routes in Flask is the @app.route decorator."
   ]
  },
  {
   "cell_type": "markdown",
   "id": "fab3e199-5ec7-45ca-90de-76d820d5c868",
   "metadata": {},
   "source": [
    "Decorator (@app.route):\n",
    "\n",
    "In Flask, the @app.route decorator is used to associate a function with a specific URL. This decorator takes the URL pattern as an argument. When a user accesses that URL, Flask calls the associated function."
   ]
  },
  {
   "cell_type": "code",
   "execution_count": null,
   "id": "a3ed37d5-dc84-449e-857c-0540c32afe34",
   "metadata": {},
   "outputs": [],
   "source": [
    "@app.route('/')\n",
    "def home():\n",
    "    return 'Hello, this is the home page!'\n"
   ]
  },
  {
   "cell_type": "code",
   "execution_count": null,
   "id": "cb60ffd6-2441-4cdf-bbf5-0c23fb87ff9e",
   "metadata": {},
   "outputs": [],
   "source": []
  },
  {
   "cell_type": "markdown",
   "id": "5e89f5d0-9856-4f5d-8ddc-1aa84f0323c1",
   "metadata": {},
   "source": [
    "Q5. What function is used in Flask for URL Building? Write a Python code to demonstrate the working of the\n",
    "url_for() function."
   ]
  },
  {
   "cell_type": "markdown",
   "id": "ba8d0d48-1d8a-4b51-b6ca-627ba135417c",
   "metadata": {},
   "source": [
    "Ans -\n",
    "\n",
    "\n",
    "In Flask, the url_for() function is used for URL building. It generates a URL for the specified endpoint with the method provided. This function is helpful because it allows you to avoid hardcoding URLs in your templates and views, making your application more flexible."
   ]
  },
  {
   "cell_type": "code",
   "execution_count": null,
   "id": "1e304f77-f6c4-4632-ac82-d62a85df49dd",
   "metadata": {},
   "outputs": [],
   "source": []
  }
 ],
 "metadata": {
  "kernelspec": {
   "display_name": "Python 3 (ipykernel)",
   "language": "python",
   "name": "python3"
  },
  "language_info": {
   "codemirror_mode": {
    "name": "ipython",
    "version": 3
   },
   "file_extension": ".py",
   "mimetype": "text/x-python",
   "name": "python",
   "nbconvert_exporter": "python",
   "pygments_lexer": "ipython3",
   "version": "3.10.8"
  }
 },
 "nbformat": 4,
 "nbformat_minor": 5
}
