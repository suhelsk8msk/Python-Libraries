{
 "cells": [
  {
   "cell_type": "markdown",
   "id": "4077a242-ce60-489b-a488-dc2711483446",
   "metadata": {},
   "source": [
    "Flask Assignment-2"
   ]
  },
  {
   "cell_type": "markdown",
   "id": "a6550ce7-7112-46e3-bb35-d894490ce1ef",
   "metadata": {},
   "source": [
    "Q1. Explain GET and POST methods."
   ]
  },
  {
   "cell_type": "markdown",
   "id": "6f50b2af-25fa-4827-b3ad-2516cc4b2266",
   "metadata": {},
   "source": [
    "Ans -\n",
    "\n",
    "\n",
    "GET and POST are two HTTP (Hypertext Transfer Protocol) methods used for communication between a client (typically a web browser) and a server. These methods define the type of request being made and how the data should be sent to the server"
   ]
  },
  {
   "cell_type": "markdown",
   "id": "83da30b9-c81b-49ac-8373-21392361ced6",
   "metadata": {},
   "source": [
    "GET Method:\n",
    "\n",
    "Purpose: The GET method is used to request data from a specified resource.\n",
    "\n",
    "Data Transmission: Data is appended to the URL in the form of query parameters. This makes the data visible in the URL and is limited by the maximum length a URL can have.\n",
    "\n",
    "Idempotent: GET requests are considered idempotent, meaning that making the same request multiple times should have the same result. They are safe, as they do not modify the server's state.\n",
    "\n",
    "Cacheable: Responses to GET requests can be cached by browsers and other intermediaries."
   ]
  },
  {
   "cell_type": "markdown",
   "id": "0e2a5fd9-7bd0-4e8a-a5c7-4fc1399cd3bb",
   "metadata": {},
   "source": [
    "POST Method:\n",
    "\n",
    "Purpose: The POST method is used to submit data to be processed to a specified resource.\n",
    "\n",
    "Data Transmission: Data is sent in the request body, rather than in the URL. This allows for the transmission of larger amounts of data compared to GET.\n",
    "\n",
    "Not Idempotent: POST requests are not idempotent, meaning that making the same request multiple times may have different results. They are not considered safe as they may modify the server's state.\n",
    "\n",
    "Not Cacheable: Responses to POST requests are typically not cached, as they are intended for actions that may change the server's state."
   ]
  },
  {
   "cell_type": "code",
   "execution_count": null,
   "id": "711f2baf-9b4a-4fa1-af87-1cb7685bda41",
   "metadata": {},
   "outputs": [],
   "source": []
  },
  {
   "cell_type": "markdown",
   "id": "c8b9b266-07e2-4d90-91b6-afbe8d166cb1",
   "metadata": {},
   "source": [
    "Q2. Why is request used in Flask?"
   ]
  },
  {
   "cell_type": "markdown",
   "id": "5686c0d8-7aba-4ee6-9c6a-67d32a0f76a3",
   "metadata": {},
   "source": [
    "Ans - \n",
    "\n",
    "\n",
    "In Flask, the request object is used to access incoming data from a client, particularly data sent as part of an HTTP request. It provides a convenient way to interact with the data sent by a client, whether it be through form submissions, URL parameters, or other request methods. The request object is an instance of the Request class in Flask."
   ]
  },
  {
   "cell_type": "markdown",
   "id": "6dc6e08f-c831-4f6d-a0a5-2ed8dc4f0503",
   "metadata": {},
   "source": [
    "Here are some common use cases for the request object in Flask:\n",
    "\n",
    "1 - Accessing Form Data:\n",
    "\n",
    "When a user submits a form on a Flask web application, the form data is typically sent in the request. The request object allows you to access this form data easily."
   ]
  },
  {
   "cell_type": "code",
   "execution_count": null,
   "id": "2ce36794-2614-4e6f-be89-30f40df86130",
   "metadata": {},
   "outputs": [],
   "source": [
    "from flask import Flask, request\n",
    "\n",
    "app = Flask(__name__)\n",
    "\n",
    "@app.route('/submit', methods=['POST'])\n",
    "def submit_form():\n",
    "    username = request.form.get('username')\n",
    "    password = request.form.get('password')\n",
    "    # Process the form data\n"
   ]
  },
  {
   "cell_type": "markdown",
   "id": "4aade25d-4c35-4404-93b5-c5984ddb1350",
   "metadata": {},
   "source": [
    "2 - Handling URL Parameters:\n",
    "\n",
    "You can access URL parameters using the request.args attribute. This is useful when you have data passed in the URL, often in the form of query parameters."
   ]
  },
  {
   "cell_type": "code",
   "execution_count": null,
   "id": "f7b6e33f-5bc9-4fee-a0b4-dfb51e0a7f56",
   "metadata": {},
   "outputs": [],
   "source": [
    "from flask import Flask, request\n",
    "\n",
    "app = Flask(__name__)\n",
    "\n",
    "@app.route('/user')\n",
    "def get_user():\n",
    "    user_id = request.args.get('id')\n",
    "    # Retrieve user data based on the ID\n"
   ]
  },
  {
   "cell_type": "code",
   "execution_count": null,
   "id": "13fa52fa-5a58-47b2-889b-6075c1a59364",
   "metadata": {},
   "outputs": [],
   "source": []
  },
  {
   "cell_type": "markdown",
   "id": "e58aca8a-4cea-4f54-9a74-3500b69d624c",
   "metadata": {},
   "source": [
    "3 - Working with JSON Data:\n",
    "\n",
    "When clients send JSON data in the request body (common in AJAX requests or API calls), you can use the request.json attribute to access and parse the JSON data."
   ]
  },
  {
   "cell_type": "code",
   "execution_count": null,
   "id": "e8ab536a-1ee6-4517-9d5d-5978d8472186",
   "metadata": {},
   "outputs": [],
   "source": [
    "from flask import Flask, request\n",
    "\n",
    "app = Flask(__name__)\n",
    "\n",
    "@app.route('/process_json', methods=['POST'])\n",
    "def process_json():\n",
    "    data = request.json\n",
    "    # Process the JSON data\n"
   ]
  },
  {
   "cell_type": "code",
   "execution_count": null,
   "id": "1cdb92fd-05a8-4de3-a32b-b9716b741d20",
   "metadata": {},
   "outputs": [],
   "source": []
  },
  {
   "cell_type": "markdown",
   "id": "596d7c1b-c6a1-4ee0-bd6a-2cc435a616c0",
   "metadata": {},
   "source": [
    "4 - Handling File Uploads:\n",
    "\n",
    "If your application allows file uploads, the request.files attribute enables you to access uploaded files."
   ]
  },
  {
   "cell_type": "code",
   "execution_count": null,
   "id": "badb80c1-0592-4c6e-86cc-a39c3f4ffbc2",
   "metadata": {},
   "outputs": [],
   "source": [
    "from flask import Flask, request\n",
    "\n",
    "app = Flask(__name__)\n",
    "\n",
    "@app.route('/upload', methods=['POST'])\n",
    "def upload_file():\n",
    "    uploaded_file = request.files['file']\n",
    "    # Process the uploaded file\n"
   ]
  },
  {
   "cell_type": "code",
   "execution_count": null,
   "id": "cb47962d-47ba-47e7-90c4-ef986edf8727",
   "metadata": {},
   "outputs": [],
   "source": []
  },
  {
   "cell_type": "markdown",
   "id": "681cb3bc-2abb-4ff1-9234-9162fb539a08",
   "metadata": {},
   "source": [
    "Q3. Why is redirect() used in Flask?"
   ]
  },
  {
   "cell_type": "markdown",
   "id": "4f4f7f06-9bb3-4c93-a43c-350afaebfa56",
   "metadata": {},
   "source": [
    "Ans - \n",
    "\n",
    "In Flask, the redirect() function is used to redirect the client's browser to a different URL. This function is particularly useful when you want to guide the user to another page or route after a certain action has been performed, such as form submission or authentication."
   ]
  },
  {
   "cell_type": "markdown",
   "id": "6e8c6874-6e21-4c56-ba0b-f18cd0604e58",
   "metadata": {},
   "source": [
    "Here are a few common use cases for using redirect() in Flask:\n",
    "\n",
    "1 - After Form Submission:\n",
    "\n",
    "When a user submits a form on your website, you might want to redirect them to another page, perhaps a confirmation page, to provide feedback or display the results of the submitted form."
   ]
  },
  {
   "cell_type": "code",
   "execution_count": null,
   "id": "f85f56ea-992d-405a-a17c-345f93b3ea7e",
   "metadata": {},
   "outputs": [],
   "source": [
    "from flask import Flask, render_template, request, redirect, url_for\n",
    "\n",
    "app = Flask(__name__)\n",
    "\n",
    "@app.route('/submit_form', methods=['POST'])\n",
    "def submit_form():\n",
    "    # Process form data\n",
    "    # Redirect to a different page\n",
    "    return redirect(url_for('confirmation_page'))\n"
   ]
  },
  {
   "cell_type": "code",
   "execution_count": null,
   "id": "915bfc30-8945-4231-9a92-7733e1bdcdb1",
   "metadata": {},
   "outputs": [],
   "source": []
  },
  {
   "cell_type": "markdown",
   "id": "5cbde6eb-b18b-447f-9aa2-428080ffb66c",
   "metadata": {},
   "source": [
    "2 - After Successful Authentication:\n",
    "\n",
    "After a user successfully logs in or authenticates, you may want to redirect them to their profile page or a dashboard."
   ]
  },
  {
   "cell_type": "code",
   "execution_count": null,
   "id": "5b89ebfd-3f95-4736-8798-542ec1fd7888",
   "metadata": {},
   "outputs": [],
   "source": [
    "from flask import Flask, redirect, url_for\n",
    "\n",
    "app = Flask(__name__)\n",
    "\n",
    "@app.route('/login', methods=['POST'])\n",
    "def login():\n",
    "    # Validate credentials\n",
    "    # Redirect to profile page on successful login\n",
    "    return redirect(url_for('user_profile'))\n"
   ]
  },
  {
   "cell_type": "code",
   "execution_count": null,
   "id": "f22f229d-bb05-45da-bff8-7e2815fc6a2a",
   "metadata": {},
   "outputs": [],
   "source": []
  },
  {
   "cell_type": "markdown",
   "id": "c8955915-e9b0-4cc8-b473-f1341ac39825",
   "metadata": {},
   "source": [
    "Q4. What are templates in Flask? Why is the render_template() function used?"
   ]
  },
  {
   "cell_type": "markdown",
   "id": "09bc489d-ba36-4853-8281-9a820ff96e39",
   "metadata": {},
   "source": [
    "Ans -\n",
    "\n",
    "\n",
    "In Flask, templates are used to separate the presentation (HTML code) from the application logic. Templates allow you to create dynamic HTML pages by embedding placeholders (usually written in Jinja2 syntax) that can be replaced with actual values during runtime. This separation of concerns makes it easier to manage and maintain web applications, as it promotes a clean and organized structure."
   ]
  },
  {
   "cell_type": "code",
   "execution_count": null,
   "id": "c6a75773-14bf-4275-82a5-cc4cc1ce2a75",
   "metadata": {},
   "outputs": [],
   "source": [
    "from flask import Flask, render_template\n",
    "\n",
    "app = Flask(__name__)\n",
    "\n",
    "@app.route('/')\n",
    "def home():\n",
    "    return render_template('index.html', title='Home', content='Welcome to the home page!')\n"
   ]
  },
  {
   "cell_type": "code",
   "execution_count": null,
   "id": "6640585e-3194-49cf-adb4-b71c058d7edb",
   "metadata": {},
   "outputs": [],
   "source": []
  },
  {
   "cell_type": "markdown",
   "id": "a2e793dc-5383-4a91-812d-882607a65698",
   "metadata": {},
   "source": [
    "Q5. Create a simple API. Use Postman to test it. Attach the screenshot of the output in the Jupyter Notebook."
   ]
  },
  {
   "cell_type": "code",
   "execution_count": null,
   "id": "2e9fb1e4-d884-4895-ad22-ed5e1fef66e7",
   "metadata": {},
   "outputs": [],
   "source": []
  }
 ],
 "metadata": {
  "kernelspec": {
   "display_name": "Python 3 (ipykernel)",
   "language": "python",
   "name": "python3"
  },
  "language_info": {
   "codemirror_mode": {
    "name": "ipython",
    "version": 3
   },
   "file_extension": ".py",
   "mimetype": "text/x-python",
   "name": "python",
   "nbconvert_exporter": "python",
   "pygments_lexer": "ipython3",
   "version": "3.10.8"
  }
 },
 "nbformat": 4,
 "nbformat_minor": 5
}
