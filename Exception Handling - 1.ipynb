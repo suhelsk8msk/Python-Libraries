{
 "cells": [
  {
   "cell_type": "markdown",
   "id": "41732962-0d02-4856-87c4-a05a2362e102",
   "metadata": {},
   "source": [
    " Exception Handling Assignment - 1"
   ]
  },
  {
   "cell_type": "markdown",
   "id": "53385ea6-ebf4-43fa-adbc-38102ce8cc60",
   "metadata": {},
   "source": [
    "Q1. What is an Exeption in python? Write the difference between Exception and synntax errors."
   ]
  },
  {
   "cell_type": "markdown",
   "id": "59563fca-0df0-4b0f-8eec-1e24cf45d1df",
   "metadata": {},
   "source": [
    "Ans - In Python, an exception is an event that occurs during the execution of a program that disrupts the normal flow of instructions.\n",
    "\n",
    "Exceptions can be caused by various reasons, such as user input errors, file not found, division by zero, etc. \n",
    "\n",
    "\n",
    "The differences between exceptions and syntax errors in Python:\n",
    "\n",
    "Exception:\n",
    "\n",
    "1 - An exception is an error that occurs during the execution of a program.\n",
    "\n",
    "2 - It disrupts the normal flow of instructions.\n",
    "\n",
    "3 - Exceptions can be caused by various runtime issues, such as invalid user input or attempting to perform an invalid operation.\n",
    "\n",
    "4 - Exception handling is used to gracefully manage and recover from these runtime errors.\n",
    "\n",
    "\n",
    "Syntax Error:\n",
    "\n",
    "1 - A syntax error is a mistake in the code that violates the rules of the Python language.\n",
    "\n",
    "2 - Syntax errors are detected by the Python interpreter during the parsing phase, before the program starts running.\n",
    "\n",
    "3 - These errors prevent the program from being executed and need to be fixed in the code before running the program.\n",
    "\n",
    "4 - Common examples of syntax errors include missing colons, mismatched parentheses, and undefined variables.\n"
   ]
  },
  {
   "cell_type": "code",
   "execution_count": null,
   "id": "144cd0d7-7074-46c2-9974-e29c8bf90bc5",
   "metadata": {},
   "outputs": [],
   "source": [
    "\n"
   ]
  },
  {
   "cell_type": "markdown",
   "id": "1be2b2e5-16ed-4303-9487-883da2287dda",
   "metadata": {},
   "source": [
    "Q2 - What happens when an Exception is not handled? Explain with an Example."
   ]
  },
  {
   "cell_type": "markdown",
   "id": "1cca5d74-66f5-4eb6-805e-f21a5b74decb",
   "metadata": {},
   "source": [
    "Ans - When an exception is not handled in Python, it leads to the program terminating abruptly, and an error message is displayed indicating the type of exception and the location in the code where it occurred."
   ]
  },
  {
   "cell_type": "code",
   "execution_count": 1,
   "id": "b1d51eef-5945-48e2-b315-633a8aa4b01e",
   "metadata": {},
   "outputs": [],
   "source": [
    "# An example to illustrate what happens when an exception is not handled:"
   ]
  },
  {
   "cell_type": "code",
   "execution_count": 2,
   "id": "25652334-a44b-4ad7-912a-b112971278cd",
   "metadata": {},
   "outputs": [
    {
     "ename": "ZeroDivisionError",
     "evalue": "division by zero",
     "output_type": "error",
     "traceback": [
      "\u001b[0;31m---------------------------------------------------------------------------\u001b[0m",
      "\u001b[0;31mZeroDivisionError\u001b[0m                         Traceback (most recent call last)",
      "Cell \u001b[0;32mIn[2], line 8\u001b[0m\n\u001b[1;32m      5\u001b[0m     \u001b[38;5;28;01mreturn\u001b[39;00m result\n\u001b[1;32m      7\u001b[0m \u001b[38;5;66;03m# Calling the function with division by zero\u001b[39;00m\n\u001b[0;32m----> 8\u001b[0m result \u001b[38;5;241m=\u001b[39m \u001b[43mdivide_numbers\u001b[49m\u001b[43m(\u001b[49m\u001b[38;5;241;43m5\u001b[39;49m\u001b[43m,\u001b[49m\u001b[43m \u001b[49m\u001b[38;5;241;43m0\u001b[39;49m\u001b[43m)\u001b[49m\n\u001b[1;32m      9\u001b[0m \u001b[38;5;28mprint\u001b[39m(result)\n",
      "Cell \u001b[0;32mIn[2], line 4\u001b[0m, in \u001b[0;36mdivide_numbers\u001b[0;34m(a, b)\u001b[0m\n\u001b[1;32m      3\u001b[0m \u001b[38;5;28;01mdef\u001b[39;00m \u001b[38;5;21mdivide_numbers\u001b[39m(a, b):\n\u001b[0;32m----> 4\u001b[0m     result \u001b[38;5;241m=\u001b[39m \u001b[43ma\u001b[49m\u001b[43m \u001b[49m\u001b[38;5;241;43m/\u001b[39;49m\u001b[43m \u001b[49m\u001b[43mb\u001b[49m\n\u001b[1;32m      5\u001b[0m     \u001b[38;5;28;01mreturn\u001b[39;00m result\n",
      "\u001b[0;31mZeroDivisionError\u001b[0m: division by zero"
     ]
    }
   ],
   "source": [
    "# Example: Division by zero without exception handling\n",
    "\n",
    "def divide_numbers(a, b):\n",
    "    result = a / b\n",
    "    return result\n",
    "\n",
    "# Calling the function with division by zero\n",
    "result = divide_numbers(5, 0)\n",
    "print(result)\n"
   ]
  },
  {
   "cell_type": "code",
   "execution_count": 3,
   "id": "842f5c39-03f1-4e35-b27f-82b070c12c74",
   "metadata": {},
   "outputs": [],
   "source": [
    "#  Error: Division by zero is not allowed."
   ]
  },
  {
   "cell_type": "markdown",
   "id": "bea3efcb-6133-46fa-8003-d6f8ccf33608",
   "metadata": {},
   "source": [
    "Q3 - Which python statements are used to catch and handle exceptions? Explain with an Example."
   ]
  },
  {
   "cell_type": "markdown",
   "id": "814f357b-d2f4-40ed-8cb6-49a599bc77ec",
   "metadata": {},
   "source": [
    "Ans - In Python, the try, except, else, and finally statements are used for exception handling. "
   ]
  },
  {
   "cell_type": "markdown",
   "id": "903effe2-c0d7-4aea-ade8-01b7afb26501",
   "metadata": {},
   "source": [
    "try: This block encloses the code that might raise an exception.\n",
    "\n",
    "except: This block contains the code that will be executed if an exception is raised inside the corresponding try block. You can have multiple except blocks to handle different types of exceptions.\n",
    "\n",
    "else: This block is executed if no exceptions are raised in the try block. It is optional.\n",
    "\n",
    "finally: This block contains code that will be executed regardless of whether an exception is raised or not. It is often used for cleanup operations and is also optional."
   ]
  },
  {
   "cell_type": "code",
   "execution_count": 4,
   "id": "f3a481e0-531e-41ef-8eed-ebae7fc0b4fc",
   "metadata": {},
   "outputs": [
    {
     "name": "stdout",
     "output_type": "stream",
     "text": [
      "Error: Division by zero is not allowed.\n",
      "This block is always executed, whether an exception occurred or not.\n",
      "The result of the division is: 5.0\n",
      "This block is always executed, whether an exception occurred or not.\n"
     ]
    }
   ],
   "source": [
    "def divide_numbers(a, b):\n",
    "    try:\n",
    "        result = a / b\n",
    "    except ZeroDivisionError:\n",
    "        print(\"Error: Division by zero is not allowed.\")\n",
    "    else:\n",
    "        print(\"The result of the division is:\", result)\n",
    "    finally:\n",
    "        print(\"This block is always executed, whether an exception occurred or not.\")\n",
    "\n",
    "# Example 1: Division by zero\n",
    "divide_numbers(5, 0)\n",
    "\n",
    "# Example 2: Normal division\n",
    "divide_numbers(10, 2)\n"
   ]
  },
  {
   "cell_type": "code",
   "execution_count": null,
   "id": "f566e151-2b25-4d94-9aa1-24113fa969e2",
   "metadata": {},
   "outputs": [],
   "source": []
  },
  {
   "cell_type": "markdown",
   "id": "b925b25d-a39e-4137-829f-04020762c4c0",
   "metadata": {},
   "source": [
    "Q4 - Explain with an Example - \n",
    "\n",
    "a. try and else \n",
    "\n",
    "b. finally\n",
    "\n",
    "c. raise"
   ]
  },
  {
   "cell_type": "markdown",
   "id": "ebfe80b3-dac2-4ad7-af89-62e29b38d4ce",
   "metadata": {},
   "source": [
    "Ans (a) - try and else"
   ]
  },
  {
   "cell_type": "code",
   "execution_count": 5,
   "id": "450dab78-a8dc-4528-a570-726db3d6cecc",
   "metadata": {},
   "outputs": [
    {
     "name": "stdout",
     "output_type": "stream",
     "text": [
      "The result of the division is: 5.0\n",
      "Error: Division by zero is not allowed.\n"
     ]
    }
   ],
   "source": [
    "def divide_numbers(a, b):\n",
    "    try:\n",
    "        result = a / b\n",
    "    except ZeroDivisionError:\n",
    "        print(\"Error: Division by zero is not allowed.\")\n",
    "    else:\n",
    "        print(\"The result of the division is:\", result)\n",
    "\n",
    "# Example: Normal division\n",
    "divide_numbers(10, 2)\n",
    "\n",
    "# Example: Division by zero\n",
    "divide_numbers(5, 0)\n"
   ]
  },
  {
   "cell_type": "markdown",
   "id": "be4c8b8a-b135-4d61-b6db-94e59c1914f7",
   "metadata": {},
   "source": [
    "(b) - finally"
   ]
  },
  {
   "cell_type": "code",
   "execution_count": 6,
   "id": "750c0793-a675-4f99-b67e-d0705de5eaf9",
   "metadata": {},
   "outputs": [
    {
     "name": "stdout",
     "output_type": "stream",
     "text": [
      "Error: File not found.\n",
      "This block is always executed, whether an exception occurred or not.\n",
      "Error: File not found.\n",
      "This block is always executed, whether an exception occurred or not.\n"
     ]
    }
   ],
   "source": [
    "def open_and_read_file(filename):\n",
    "    try:\n",
    "        file = open(filename, 'r')\n",
    "        content = file.read()\n",
    "        print(\"File content:\", content)\n",
    "    except FileNotFoundError:\n",
    "        print(\"Error: File not found.\")\n",
    "    finally:\n",
    "        if 'file' in locals():\n",
    "            file.close()\n",
    "        print(\"This block is always executed, whether an exception occurred or not.\")\n",
    "\n",
    "# Example: Existing file\n",
    "open_and_read_file('example.txt')\n",
    "\n",
    "# Example: Non-existing file\n",
    "open_and_read_file('nonexistent.txt')\n"
   ]
  },
  {
   "cell_type": "code",
   "execution_count": null,
   "id": "106702f2-c4a5-49cb-8e01-9194ec10b369",
   "metadata": {},
   "outputs": [],
   "source": []
  },
  {
   "cell_type": "markdown",
   "id": "59240192-7bdc-436e-951a-64dd404db06e",
   "metadata": {},
   "source": [
    "(c) - raise"
   ]
  },
  {
   "cell_type": "code",
   "execution_count": 7,
   "id": "6cc750b3-31b9-45b2-b59f-eeed087ca6f7",
   "metadata": {},
   "outputs": [
    {
     "name": "stdout",
     "output_type": "stream",
     "text": [
      "You are an adult.\n",
      "Error: Age cannot be negative.\n"
     ]
    }
   ],
   "source": [
    "def check_age(age):\n",
    "    if age < 0:\n",
    "        raise ValueError(\"Age cannot be negative.\")\n",
    "    elif age < 18:\n",
    "        print(\"You are a minor.\")\n",
    "    else:\n",
    "        print(\"You are an adult.\")\n",
    "\n",
    "# Example: Valid age\n",
    "check_age(25)\n",
    "\n",
    "# Example: Invalid (negative) age\n",
    "try:\n",
    "    check_age(-5)\n",
    "except ValueError as e:\n",
    "    print(\"Error:\", e)\n"
   ]
  },
  {
   "cell_type": "code",
   "execution_count": null,
   "id": "c88c4114-9b2d-45d0-ab36-9e0ee39961f1",
   "metadata": {},
   "outputs": [],
   "source": []
  },
  {
   "cell_type": "markdown",
   "id": "bed7bdcd-8a9e-4e5a-b925-4ea0efbd6398",
   "metadata": {},
   "source": [
    "Q5 - What are custom exception in python? Why do we need custom exceptions ? Explain with an example."
   ]
  },
  {
   "cell_type": "markdown",
   "id": "d6dba852-3c0a-441c-8f95-a3c400a23a0c",
   "metadata": {},
   "source": [
    "Ans- Custom exceptions are user-defined exceptions that extend the built-in exception classes. \n",
    "\n",
    "Creating custom exceptions allows developers to define application-specific error types and handle them in a more meaningful and organized way. "
   ]
  },
  {
   "cell_type": "markdown",
   "id": "ceaaf596-6b0a-4083-8476-b36fe8e081e3",
   "metadata": {},
   "source": [
    "Custom exceptions enhance the readability and maintainability of the code by providing a clear indication of the type of error that occurred."
   ]
  },
  {
   "cell_type": "code",
   "execution_count": 11,
   "id": "b61c4f6a-e87a-43da-8f1e-a01ac997a564",
   "metadata": {},
   "outputs": [
    {
     "name": "stdout",
     "output_type": "stream",
     "text": [
      "Error: Cannot withdraw 1500. Insufficient balance (1000).\n"
     ]
    }
   ],
   "source": [
    "class WithdrawalError(Exception):\n",
    "    #Custom exception for withdrawal-related errors.\n",
    "    def __init__(self, balance, amount):\n",
    "        self.balance = balance\n",
    "        self.amount = amount\n",
    "        super().__init__(f\"Error: Cannot withdraw {amount}. Insufficient balance ({balance}).\")\n",
    "\n",
    "class BankAccount:\n",
    "    def __init__(self, balance):\n",
    "        self.balance = balance\n",
    "\n",
    "    def withdraw(self, amount):\n",
    "        if amount > self.balance:\n",
    "            raise WithdrawalError(self.balance, amount)\n",
    "        else:\n",
    "            self.balance -= amount\n",
    "            print(f\"Withdrawal of {amount} successful. Remaining balance: {self.balance}\")\n",
    "\n",
    "\n",
    "account = BankAccount(1000)\n",
    "\n",
    "try:\n",
    "    account.withdraw(1500)\n",
    "except WithdrawalError as e:\n",
    "    print(e)\n"
   ]
  },
  {
   "cell_type": "code",
   "execution_count": null,
   "id": "16e60a4b-06be-4154-9757-4671d4d961c5",
   "metadata": {},
   "outputs": [],
   "source": []
  },
  {
   "cell_type": "markdown",
   "id": "6059e2ee-9c48-4e67-8ffd-b573022b2a30",
   "metadata": {},
   "source": [
    "Q6 - Create a custom Exception Class. Use this class to handle an exception."
   ]
  },
  {
   "cell_type": "code",
   "execution_count": 13,
   "id": "32698255-da8e-4edd-a8c3-d1f21c639cdf",
   "metadata": {},
   "outputs": [
    {
     "name": "stdout",
     "output_type": "stream",
     "text": [
      "Value is: 10\n",
      "Caught an exception: CustomError: Negative values are not allowed.\n"
     ]
    }
   ],
   "source": [
    "class CustomError(Exception):\n",
    "    \n",
    "    #Custom exception class.\n",
    "    \n",
    "    def __init__(self, value):\n",
    "        self.value = value\n",
    "        super().__init__(f\"CustomError: {value}\")\n",
    "\n",
    "\n",
    "def example_function(value):\n",
    "    try:\n",
    "        if value < 0:\n",
    "            raise CustomError(\"Negative values are not allowed.\")\n",
    "        else:\n",
    "            print(f\"Value is: {value}\")\n",
    "    except CustomError as ce:\n",
    "        print(f\"Caught an exception: {ce}\")\n",
    "\n",
    "\n",
    "example_function(10)  # No exception\n",
    "example_function(-5)  # CustomError exception will be caught\n"
   ]
  },
  {
   "cell_type": "code",
   "execution_count": null,
   "id": "16cd47de-74d5-4fd7-8122-28d055b7ae58",
   "metadata": {},
   "outputs": [],
   "source": []
  }
 ],
 "metadata": {
  "kernelspec": {
   "display_name": "Python 3 (ipykernel)",
   "language": "python",
   "name": "python3"
  },
  "language_info": {
   "codemirror_mode": {
    "name": "ipython",
    "version": 3
   },
   "file_extension": ".py",
   "mimetype": "text/x-python",
   "name": "python",
   "nbconvert_exporter": "python",
   "pygments_lexer": "ipython3",
   "version": "3.10.8"
  }
 },
 "nbformat": 4,
 "nbformat_minor": 5
}
