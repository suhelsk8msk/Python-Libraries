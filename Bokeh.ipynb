{
  "nbformat": 4,
  "nbformat_minor": 0,
  "metadata": {
    "colab": {
      "provenance": []
    },
    "kernelspec": {
      "name": "python3",
      "display_name": "Python 3"
    },
    "language_info": {
      "name": "python"
    }
  },
  "cells": [
    {
      "cell_type": "code",
      "execution_count": 1,
      "metadata": {
        "id": "sCmxf9DTTI7H"
      },
      "outputs": [],
      "source": [
        "# Q1. How can you create a Bokeh plot using Python code?"
      ]
    },
    {
      "cell_type": "code",
      "source": [
        "\"\"\" To create a Bokeh plot using Python code, you typically follow these steps:\n",
        "\n",
        "1 - Import necessary modules: First, you need to import the required modules from the Bokeh library.\n",
        "\n",
        "2 - Prepare data: Prepare the data that you want to plot. This may involve creating lists, NumPy arrays, or pandas DataFrames.\n",
        "\n",
        "3 - Create a figure: Create a figure object using figure() function from the Bokeh library. This object represents the entire plot and allows you to customize its properties.\n",
        "\n",
        "4 - Add glyphs: Add glyphs (visual markers) to the figure using methods like circle(), line(), square(), etc. These glyphs represent your data points.\n",
        "\n",
        "5 - Customize the plot: Customize various aspects of the plot such as axes, titles, labels, colors, etc.\n",
        "\n",
        "6 -Display the plot: Finally, display the plot using show() function.\"\"\""
      ],
      "metadata": {
        "colab": {
          "base_uri": "https://localhost:8080/",
          "height": 123
        },
        "id": "HKT5bIn-TPlT",
        "outputId": "0ca19fa2-08e8-4b98-a6bc-5e7e47bfc659"
      },
      "execution_count": 2,
      "outputs": [
        {
          "output_type": "execute_result",
          "data": {
            "text/plain": [
              "' To create a Bokeh plot using Python code, you typically follow these steps:\\n\\n1 - Import necessary modules: First, you need to import the required modules from the Bokeh library.\\n\\n2 - Prepare data: Prepare the data that you want to plot. This may involve creating lists, NumPy arrays, or pandas DataFrames.\\n\\n3 - Create a figure: Create a figure object using figure() function from the Bokeh library. This object represents the entire plot and allows you to customize its properties.\\n\\n4 - Add glyphs: Add glyphs (visual markers) to the figure using methods like circle(), line(), square(), etc. These glyphs represent your data points.\\n\\n5 - Customize the plot: Customize various aspects of the plot such as axes, titles, labels, colors, etc.\\n\\n6 -Display the plot: Finally, display the plot using show() function.'"
            ],
            "application/vnd.google.colaboratory.intrinsic+json": {
              "type": "string"
            }
          },
          "metadata": {},
          "execution_count": 2
        }
      ]
    },
    {
      "cell_type": "code",
      "source": [
        "from bokeh.plotting import figure, output_file, show\n",
        "\n",
        "# Prepare data\n",
        "x = [1, 2, 3, 4, 5]\n",
        "y = [6, 7, 2, 4, 5]\n",
        "\n",
        "# Create a figure\n",
        "output_file(\"scatter_plot.html\")\n",
        "p = figure(title=\"Simple Scatter Plot\", x_axis_label='x', y_axis_label='y')\n",
        "\n",
        "# Add glyphs\n",
        "p.circle(x, y, size=10, color=\"navy\", alpha=0.5)\n",
        "\n",
        "# Display the plot\n",
        "show(p)\n"
      ],
      "metadata": {
        "id": "JThSY7CPTlTz"
      },
      "execution_count": 4,
      "outputs": []
    },
    {
      "cell_type": "code",
      "source": [
        "\"\"\" Q2. What are glyphs in Bokeh, and how can you add them to a Bokeh plot? Explain with an example. \"\"\""
      ],
      "metadata": {
        "colab": {
          "base_uri": "https://localhost:8080/",
          "height": 36
        },
        "id": "CAdz0Et4Tpbr",
        "outputId": "71fa0f91-83e3-4e88-cbcf-ed232d62b187"
      },
      "execution_count": 5,
      "outputs": [
        {
          "output_type": "execute_result",
          "data": {
            "text/plain": [
              "' Q2. What are glyphs in Bokeh, and how can you add them to a Bokeh plot? Explain with an example. '"
            ],
            "application/vnd.google.colaboratory.intrinsic+json": {
              "type": "string"
            }
          },
          "metadata": {},
          "execution_count": 5
        }
      ]
    },
    {
      "cell_type": "code",
      "source": [
        "\"\"\" In Bokeh, glyphs are the visual shapes or markers that represent data points on a plot. They can be simple shapes like circles, squares, triangles, etc., or more complex shapes like lines, patches, and wedges. Glyphs allow you to visualize your data in various ways and customize their appearance according to your needs\"\"\""
      ],
      "metadata": {
        "colab": {
          "base_uri": "https://localhost:8080/",
          "height": 71
        },
        "id": "OCS0a0vST2wr",
        "outputId": "627e0c7e-d4a9-4691-e980-7fb0e3ee6a21"
      },
      "execution_count": 6,
      "outputs": [
        {
          "output_type": "execute_result",
          "data": {
            "text/plain": [
              "' In Bokeh, glyphs are the visual shapes or markers that represent data points on a plot. They can be simple shapes like circles, squares, triangles, etc., or more complex shapes like lines, patches, and wedges. Glyphs allow you to visualize your data in various ways and customize their appearance according to your needs'"
            ],
            "application/vnd.google.colaboratory.intrinsic+json": {
              "type": "string"
            }
          },
          "metadata": {},
          "execution_count": 6
        }
      ]
    },
    {
      "cell_type": "code",
      "source": [
        "from bokeh.plotting import figure, output_file, show\n",
        "\n",
        "# Prepare data\n",
        "x = [1, 2, 3, 4, 5]\n",
        "y = [6, 7, 2, 4, 5]\n",
        "\n",
        "# Create a figure\n",
        "output_file(\"glyphs_example.html\")\n",
        "p = figure(title=\"Example Glyphs\", x_axis_label='x', y_axis_label='y')\n",
        "\n",
        "# Add circle glyph\n",
        "p.circle(x, y, size=10, color=\"navy\", alpha=0.5)\n",
        "\n",
        "# Add square glyph\n",
        "p.square(x, y, size=12, color=\"firebrick\", alpha=0.6)\n",
        "\n",
        "# Add line glyph\n",
        "p.line(x, y, line_width=2, color=\"green\")\n",
        "\n",
        "# Display the plot\n",
        "show(p)\n"
      ],
      "metadata": {
        "id": "ZveFRyVZT9w0"
      },
      "execution_count": 8,
      "outputs": []
    },
    {
      "cell_type": "code",
      "source": [
        "\"\"\"Q3. How can you customize the appearance of a Bokeh plot, including the axes, title, and legend?\"\"\""
      ],
      "metadata": {
        "colab": {
          "base_uri": "https://localhost:8080/",
          "height": 36
        },
        "id": "JPdAd_I6UAmq",
        "outputId": "185ecb53-55a4-40fd-e7cd-b9a25a4b06d0"
      },
      "execution_count": 9,
      "outputs": [
        {
          "output_type": "execute_result",
          "data": {
            "text/plain": [
              "'Q3. How can you customize the appearance of a Bokeh plot, including the axes, title, and legend?'"
            ],
            "application/vnd.google.colaboratory.intrinsic+json": {
              "type": "string"
            }
          },
          "metadata": {},
          "execution_count": 9
        }
      ]
    },
    {
      "cell_type": "code",
      "source": [
        "\"\"\" You can customize various aspects of a Bokeh plot, including the axes, title, legend, colors, fonts, and more. Here's how you can customize the appearance of a Bokeh plot:\n",
        "\n",
        "Title: You can set the title of the plot using the title attribute of the figure object.\n",
        "\n",
        "Axes: You can customize the axes by setting properties like axis labels, ticks, tick labels, gridlines, and axis limits using attributes like x_axis_label, y_axis_label, x_range, y_range, x_minor_ticks, y_major_ticks, etc.\n",
        "\n",
        "Legend: If your plot contains multiple glyphs and you want to add a legend, you can use the legend attribute of the figure object. You can customize the legend's position, orientation, background color, font style, etc.\n",
        "\n",
        "Colors and Styles: You can set colors, line styles, and fill styles for glyphs using attributes like color, line_color, fill_color, line_width, line_dash, etc.\n",
        "\n",
        "Fonts: You can customize the font properties of the title, axis labels, tick labels, legend, etc., using attributes like title_text_font, axis_label_text_font, major_label_text_font_size, legend_label_text_font_style, etc.\n",
        "\n",
        "\"\"\""
      ],
      "metadata": {
        "colab": {
          "base_uri": "https://localhost:8080/",
          "height": 141
        },
        "id": "tU7VzW1JXgTg",
        "outputId": "ba25fae3-64f0-4a4c-dd22-dd08467a0e9f"
      },
      "execution_count": 10,
      "outputs": [
        {
          "output_type": "execute_result",
          "data": {
            "text/plain": [
              "\" You can customize various aspects of a Bokeh plot, including the axes, title, legend, colors, fonts, and more. Here's how you can customize the appearance of a Bokeh plot:\\n\\nTitle: You can set the title of the plot using the title attribute of the figure object.\\n\\nAxes: You can customize the axes by setting properties like axis labels, ticks, tick labels, gridlines, and axis limits using attributes like x_axis_label, y_axis_label, x_range, y_range, x_minor_ticks, y_major_ticks, etc.\\n\\nLegend: If your plot contains multiple glyphs and you want to add a legend, you can use the legend attribute of the figure object. You can customize the legend's position, orientation, background color, font style, etc.\\n\\nColors and Styles: You can set colors, line styles, and fill styles for glyphs using attributes like color, line_color, fill_color, line_width, line_dash, etc.\\n\\nFonts: You can customize the font properties of the title, axis labels, tick labels, legend, etc., using attributes like title_text_font, axis_label_text_font, major_label_text_font_size, legend_label_text_font_style, etc.\\n\\n\""
            ],
            "application/vnd.google.colaboratory.intrinsic+json": {
              "type": "string"
            }
          },
          "metadata": {},
          "execution_count": 10
        }
      ]
    },
    {
      "cell_type": "code",
      "source": [
        "from bokeh.plotting import figure, output_file, show\n",
        "\n",
        "# Prepare data\n",
        "x = [1, 2, 3, 4, 5]\n",
        "y = [6, 7, 2, 4, 5]\n",
        "\n",
        "# Create a figure\n",
        "output_file(\"customized_plot.html\")\n",
        "p = figure(title=\"Customized Plot\",\n",
        "           x_axis_label='X-axis',\n",
        "           y_axis_label='Y-axis',\n",
        "           x_range=(0, 6),\n",
        "           y_range=(0, 8),\n",
        "           background_fill_color=\"lightgrey\",\n",
        "           title_text_font=\"times\",\n",
        "           title_text_color=\"navy\",\n",
        "           title_text_font_size=\"18pt\")\n",
        "\n",
        "# Add circle glyph\n",
        "p.circle(x, y, size=10, color=\"navy\", alpha=0.5, legend_label=\"Circle Glyph\")\n",
        "\n",
        "# Customize legend\n",
        "p.legend.location = \"top_left\"\n",
        "p.legend.title = \"Legend\"\n",
        "p.legend.background_fill_alpha = 0.5\n",
        "\n",
        "# Display the plot\n",
        "show(p)\n"
      ],
      "metadata": {
        "id": "lfEr_6F2XxdS"
      },
      "execution_count": null,
      "outputs": []
    }
  ]
}
